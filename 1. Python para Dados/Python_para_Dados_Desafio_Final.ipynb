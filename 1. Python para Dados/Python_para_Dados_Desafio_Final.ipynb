{
  "cells": [
    {
      "cell_type": "markdown",
      "metadata": {
        "id": "rYOJCHnHCWAb"
      },
      "source": [
        "# Python para Dados - Desafio Final\n",
        "\n",
        "Bootcamp Data Analytics 2024\n",
        "\n",
        "*Autor: Letícia Simões*\n",
        "\n",
        "## Proposta do desafio\n",
        "\n",
        "Considerando a base de dados de `saude_do_sono_estilo_vida.csv` responda as questões abaixo.\n",
        "\n",
        "> Você é uma pesquisadora que está tentando entender melhor qual o impacto do estilo de vida de uma pessoa na sua qualidade de sono, por isso fez a coleta dos dados de 373 pessoas, onde foram recolhidas 12 características para cada uma delas. Por competência, a sua pesquisa foi bem controlada e você não tem dados faltosos na sua base. Chegou o momento de você fazer sua análise e responder algumas perguntas.\n",
        "\n"
      ]
    },
    {
      "cell_type": "markdown",
      "metadata": {
        "id": "jtZj-CxxCDad"
      },
      "source": [
        "## Bibliotecas"
      ]
    },
    {
      "cell_type": "code",
      "execution_count": 1,
      "metadata": {
        "id": "sj-kIfppW6am",
        "trusted": true
      },
      "outputs": [],
      "source": [
        "import pandas as pd\n",
        "import numpy as np"
      ]
    },
    {
      "cell_type": "markdown",
      "metadata": {
        "id": "FAuqxtPDXcsW"
      },
      "source": [
        "## Importação do arquivo .csv"
      ]
    },
    {
      "cell_type": "code",
      "execution_count": 2,
      "metadata": {
        "colab": {
          "base_uri": "https://localhost:8080/",
          "height": 206
        },
        "id": "ujUhGo1XXP6u",
        "outputId": "7adea52d-bebb-4936-fa8a-38aa951cf88b",
        "trusted": true
      },
      "outputs": [
        {
          "data": {
            "text/html": [
              "<div>\n",
              "<style scoped>\n",
              "    .dataframe tbody tr th:only-of-type {\n",
              "        vertical-align: middle;\n",
              "    }\n",
              "\n",
              "    .dataframe tbody tr th {\n",
              "        vertical-align: top;\n",
              "    }\n",
              "\n",
              "    .dataframe thead th {\n",
              "        text-align: right;\n",
              "    }\n",
              "</style>\n",
              "<table border=\"1\" class=\"dataframe\">\n",
              "  <thead>\n",
              "    <tr style=\"text-align: right;\">\n",
              "      <th></th>\n",
              "      <th>ID</th>\n",
              "      <th>Gênero</th>\n",
              "      <th>Idade</th>\n",
              "      <th>Ocupação</th>\n",
              "      <th>Duração do sono</th>\n",
              "      <th>Qualidade do sono</th>\n",
              "      <th>Nível de atividade física</th>\n",
              "      <th>Nível de estresse</th>\n",
              "      <th>Categoria BMI</th>\n",
              "      <th>Pressão sanguíneaaaa</th>\n",
              "      <th>Frequência cardíaca</th>\n",
              "      <th>Passos diários</th>\n",
              "      <th>Distúrbio do sono</th>\n",
              "    </tr>\n",
              "  </thead>\n",
              "  <tbody>\n",
              "    <tr>\n",
              "      <th>0</th>\n",
              "      <td>1</td>\n",
              "      <td>Homem</td>\n",
              "      <td>27</td>\n",
              "      <td>Eng. de Software</td>\n",
              "      <td>6.1</td>\n",
              "      <td>6</td>\n",
              "      <td>42</td>\n",
              "      <td>6</td>\n",
              "      <td>Sobrepeso</td>\n",
              "      <td>126/83</td>\n",
              "      <td>77</td>\n",
              "      <td>4200</td>\n",
              "      <td>Nenhuma</td>\n",
              "    </tr>\n",
              "    <tr>\n",
              "      <th>1</th>\n",
              "      <td>2</td>\n",
              "      <td>Homem</td>\n",
              "      <td>28</td>\n",
              "      <td>Médico(a)</td>\n",
              "      <td>6.2</td>\n",
              "      <td>6</td>\n",
              "      <td>60</td>\n",
              "      <td>8</td>\n",
              "      <td>Normal</td>\n",
              "      <td>125/80</td>\n",
              "      <td>75</td>\n",
              "      <td>10000</td>\n",
              "      <td>Nenhuma</td>\n",
              "    </tr>\n",
              "    <tr>\n",
              "      <th>2</th>\n",
              "      <td>3</td>\n",
              "      <td>Homem</td>\n",
              "      <td>28</td>\n",
              "      <td>Médico(a)</td>\n",
              "      <td>6.2</td>\n",
              "      <td>6</td>\n",
              "      <td>60</td>\n",
              "      <td>8</td>\n",
              "      <td>Normal</td>\n",
              "      <td>125/80</td>\n",
              "      <td>75</td>\n",
              "      <td>10000</td>\n",
              "      <td>Nenhuma</td>\n",
              "    </tr>\n",
              "    <tr>\n",
              "      <th>3</th>\n",
              "      <td>4</td>\n",
              "      <td>Homem</td>\n",
              "      <td>28</td>\n",
              "      <td>Representante de Vendas</td>\n",
              "      <td>5.9</td>\n",
              "      <td>4</td>\n",
              "      <td>30</td>\n",
              "      <td>8</td>\n",
              "      <td>Obesidade</td>\n",
              "      <td>140/90</td>\n",
              "      <td>85</td>\n",
              "      <td>3000</td>\n",
              "      <td>Apneia do sono</td>\n",
              "    </tr>\n",
              "    <tr>\n",
              "      <th>4</th>\n",
              "      <td>5</td>\n",
              "      <td>Homem</td>\n",
              "      <td>28</td>\n",
              "      <td>Representante de Vendas</td>\n",
              "      <td>5.9</td>\n",
              "      <td>4</td>\n",
              "      <td>30</td>\n",
              "      <td>8</td>\n",
              "      <td>Obesidade</td>\n",
              "      <td>140/90</td>\n",
              "      <td>85</td>\n",
              "      <td>3000</td>\n",
              "      <td>Apneia do sono</td>\n",
              "    </tr>\n",
              "  </tbody>\n",
              "</table>\n",
              "</div>"
            ],
            "text/plain": [
              "   ID Gênero  Idade                 Ocupação  Duração do sono  \\\n",
              "0   1  Homem     27         Eng. de Software              6.1   \n",
              "1   2  Homem     28                Médico(a)              6.2   \n",
              "2   3  Homem     28                Médico(a)              6.2   \n",
              "3   4  Homem     28  Representante de Vendas              5.9   \n",
              "4   5  Homem     28  Representante de Vendas              5.9   \n",
              "\n",
              "   Qualidade do sono  Nível de atividade física  Nível de estresse  \\\n",
              "0                  6                         42                  6   \n",
              "1                  6                         60                  8   \n",
              "2                  6                         60                  8   \n",
              "3                  4                         30                  8   \n",
              "4                  4                         30                  8   \n",
              "\n",
              "  Categoria BMI Pressão sanguíneaaaa  Frequência cardíaca  Passos diários  \\\n",
              "0     Sobrepeso               126/83                   77            4200   \n",
              "1        Normal               125/80                   75           10000   \n",
              "2        Normal               125/80                   75           10000   \n",
              "3     Obesidade               140/90                   85            3000   \n",
              "4     Obesidade               140/90                   85            3000   \n",
              "\n",
              "  Distúrbio do sono  \n",
              "0           Nenhuma  \n",
              "1           Nenhuma  \n",
              "2           Nenhuma  \n",
              "3    Apneia do sono  \n",
              "4    Apneia do sono  "
            ]
          },
          "execution_count": 2,
          "metadata": {},
          "output_type": "execute_result"
        }
      ],
      "source": [
        "df = pd.read_csv('saude_do_sono_estilo_vida.csv')\n",
        "df.head()"
      ]
    },
    {
      "cell_type": "code",
      "execution_count": 3,
      "metadata": {
        "colab": {
          "base_uri": "https://localhost:8080/"
        },
        "id": "Qmv_NV6ZYOrq",
        "outputId": "85bc3bb4-2c12-4fe0-afcc-811bd8166fba",
        "trusted": true
      },
      "outputs": [
        {
          "name": "stdout",
          "output_type": "stream",
          "text": [
            "<class 'pandas.core.frame.DataFrame'>\n",
            "RangeIndex: 373 entries, 0 to 372\n",
            "Data columns (total 13 columns):\n",
            " #   Column                     Non-Null Count  Dtype  \n",
            "---  ------                     --------------  -----  \n",
            " 0   ID                         373 non-null    int64  \n",
            " 1   Gênero                     373 non-null    object \n",
            " 2   Idade                      373 non-null    int64  \n",
            " 3   Ocupação                   373 non-null    object \n",
            " 4   Duração do sono            373 non-null    float64\n",
            " 5   Qualidade do sono          373 non-null    int64  \n",
            " 6   Nível de atividade física  373 non-null    int64  \n",
            " 7   Nível de estresse          373 non-null    int64  \n",
            " 8   Categoria BMI              373 non-null    object \n",
            " 9   Pressão sanguíneaaaa       373 non-null    object \n",
            " 10  Frequência cardíaca        373 non-null    int64  \n",
            " 11  Passos diários             373 non-null    int64  \n",
            " 12  Distúrbio do sono          373 non-null    object \n",
            "dtypes: float64(1), int64(7), object(5)\n",
            "memory usage: 30.7+ KB\n"
          ]
        }
      ],
      "source": [
        "df.info()"
      ]
    },
    {
      "cell_type": "markdown",
      "metadata": {
        "id": "xanFaekXYr3_"
      },
      "source": [
        "## 01\n",
        "Ao visualizar a base você percebeu que seria melhor alterar o nome de algumas colunas. Mude o `ID` para `Identificador`, corrija o nome da coluna que indica a pressão sanguínea, mude a coluna `Ocupação` para `Profissão`, a coluna `Categoria BMI` está em parte em inglês, substitua para `Categoria IMC`."
      ]
    },
    {
      "cell_type": "code",
      "execution_count": 4,
      "metadata": {
        "colab": {
          "base_uri": "https://localhost:8080/",
          "height": 206
        },
        "id": "T92l2tvLYUN-",
        "outputId": "37f72504-1368-4c86-c1a5-4d36bbd9a27c",
        "trusted": true
      },
      "outputs": [
        {
          "data": {
            "text/html": [
              "<div>\n",
              "<style scoped>\n",
              "    .dataframe tbody tr th:only-of-type {\n",
              "        vertical-align: middle;\n",
              "    }\n",
              "\n",
              "    .dataframe tbody tr th {\n",
              "        vertical-align: top;\n",
              "    }\n",
              "\n",
              "    .dataframe thead th {\n",
              "        text-align: right;\n",
              "    }\n",
              "</style>\n",
              "<table border=\"1\" class=\"dataframe\">\n",
              "  <thead>\n",
              "    <tr style=\"text-align: right;\">\n",
              "      <th></th>\n",
              "      <th>Identificador</th>\n",
              "      <th>Gênero</th>\n",
              "      <th>Idade</th>\n",
              "      <th>Profissão</th>\n",
              "      <th>Duração do sono</th>\n",
              "      <th>Qualidade do sono</th>\n",
              "      <th>Nível de atividade física</th>\n",
              "      <th>Nível de estresse</th>\n",
              "      <th>Categoria IMC</th>\n",
              "      <th>Pressão sanguínea</th>\n",
              "      <th>Frequência cardíaca</th>\n",
              "      <th>Passos diários</th>\n",
              "      <th>Distúrbio do sono</th>\n",
              "    </tr>\n",
              "  </thead>\n",
              "  <tbody>\n",
              "    <tr>\n",
              "      <th>0</th>\n",
              "      <td>1</td>\n",
              "      <td>Homem</td>\n",
              "      <td>27</td>\n",
              "      <td>Eng. de Software</td>\n",
              "      <td>6.1</td>\n",
              "      <td>6</td>\n",
              "      <td>42</td>\n",
              "      <td>6</td>\n",
              "      <td>Sobrepeso</td>\n",
              "      <td>126/83</td>\n",
              "      <td>77</td>\n",
              "      <td>4200</td>\n",
              "      <td>Nenhuma</td>\n",
              "    </tr>\n",
              "    <tr>\n",
              "      <th>1</th>\n",
              "      <td>2</td>\n",
              "      <td>Homem</td>\n",
              "      <td>28</td>\n",
              "      <td>Médico(a)</td>\n",
              "      <td>6.2</td>\n",
              "      <td>6</td>\n",
              "      <td>60</td>\n",
              "      <td>8</td>\n",
              "      <td>Normal</td>\n",
              "      <td>125/80</td>\n",
              "      <td>75</td>\n",
              "      <td>10000</td>\n",
              "      <td>Nenhuma</td>\n",
              "    </tr>\n",
              "    <tr>\n",
              "      <th>2</th>\n",
              "      <td>3</td>\n",
              "      <td>Homem</td>\n",
              "      <td>28</td>\n",
              "      <td>Médico(a)</td>\n",
              "      <td>6.2</td>\n",
              "      <td>6</td>\n",
              "      <td>60</td>\n",
              "      <td>8</td>\n",
              "      <td>Normal</td>\n",
              "      <td>125/80</td>\n",
              "      <td>75</td>\n",
              "      <td>10000</td>\n",
              "      <td>Nenhuma</td>\n",
              "    </tr>\n",
              "    <tr>\n",
              "      <th>3</th>\n",
              "      <td>4</td>\n",
              "      <td>Homem</td>\n",
              "      <td>28</td>\n",
              "      <td>Representante de Vendas</td>\n",
              "      <td>5.9</td>\n",
              "      <td>4</td>\n",
              "      <td>30</td>\n",
              "      <td>8</td>\n",
              "      <td>Obesidade</td>\n",
              "      <td>140/90</td>\n",
              "      <td>85</td>\n",
              "      <td>3000</td>\n",
              "      <td>Apneia do sono</td>\n",
              "    </tr>\n",
              "    <tr>\n",
              "      <th>4</th>\n",
              "      <td>5</td>\n",
              "      <td>Homem</td>\n",
              "      <td>28</td>\n",
              "      <td>Representante de Vendas</td>\n",
              "      <td>5.9</td>\n",
              "      <td>4</td>\n",
              "      <td>30</td>\n",
              "      <td>8</td>\n",
              "      <td>Obesidade</td>\n",
              "      <td>140/90</td>\n",
              "      <td>85</td>\n",
              "      <td>3000</td>\n",
              "      <td>Apneia do sono</td>\n",
              "    </tr>\n",
              "  </tbody>\n",
              "</table>\n",
              "</div>"
            ],
            "text/plain": [
              "   Identificador Gênero  Idade                Profissão  Duração do sono  \\\n",
              "0              1  Homem     27         Eng. de Software              6.1   \n",
              "1              2  Homem     28                Médico(a)              6.2   \n",
              "2              3  Homem     28                Médico(a)              6.2   \n",
              "3              4  Homem     28  Representante de Vendas              5.9   \n",
              "4              5  Homem     28  Representante de Vendas              5.9   \n",
              "\n",
              "   Qualidade do sono  Nível de atividade física  Nível de estresse  \\\n",
              "0                  6                         42                  6   \n",
              "1                  6                         60                  8   \n",
              "2                  6                         60                  8   \n",
              "3                  4                         30                  8   \n",
              "4                  4                         30                  8   \n",
              "\n",
              "  Categoria IMC Pressão sanguínea  Frequência cardíaca  Passos diários  \\\n",
              "0     Sobrepeso            126/83                   77            4200   \n",
              "1        Normal            125/80                   75           10000   \n",
              "2        Normal            125/80                   75           10000   \n",
              "3     Obesidade            140/90                   85            3000   \n",
              "4     Obesidade            140/90                   85            3000   \n",
              "\n",
              "  Distúrbio do sono  \n",
              "0           Nenhuma  \n",
              "1           Nenhuma  \n",
              "2           Nenhuma  \n",
              "3    Apneia do sono  \n",
              "4    Apneia do sono  "
            ]
          },
          "execution_count": 4,
          "metadata": {},
          "output_type": "execute_result"
        }
      ],
      "source": [
        "# Identificação das colunas a serem modificadas\n",
        "dicionario_colunas = {'ID': 'Identificador', 'Pressão sanguíneaaaa': 'Pressão sanguínea', 'Ocupação': 'Profissão', 'Categoria BMI': 'Categoria IMC'}\n",
        "\n",
        "# Alteração dos nomes das colunas\n",
        "df = df.rename(columns=dicionario_colunas)\n",
        "\n",
        "# Exibição do dataframe com as colunas modificadas\n",
        "df.head()"
      ]
    },
    {
      "cell_type": "markdown",
      "metadata": {
        "id": "zZ9tREzyaFIN"
      },
      "source": [
        "## 02\n",
        "Qual é a média, a moda e a mediana de horas de sono para cada uma das profissões? [`mean`, `np.median`, `pd.Series.mod`]"
      ]
    },
    {
      "cell_type": "code",
      "execution_count": 6,
      "metadata": {
        "colab": {
          "base_uri": "https://localhost:8080/",
          "height": 426
        },
        "id": "_LdW_vXLgE91",
        "outputId": "1e5da0fa-402e-4cd5-8b05-762409802fd4",
        "trusted": true
      },
      "outputs": [
        {
          "data": {
            "text/html": [
              "<div>\n",
              "<style scoped>\n",
              "    .dataframe tbody tr th:only-of-type {\n",
              "        vertical-align: middle;\n",
              "    }\n",
              "\n",
              "    .dataframe tbody tr th {\n",
              "        vertical-align: top;\n",
              "    }\n",
              "\n",
              "    .dataframe thead th {\n",
              "        text-align: right;\n",
              "    }\n",
              "</style>\n",
              "<table border=\"1\" class=\"dataframe\">\n",
              "  <thead>\n",
              "    <tr style=\"text-align: right;\">\n",
              "      <th></th>\n",
              "      <th>Média</th>\n",
              "      <th>Moda</th>\n",
              "      <th>Mediana</th>\n",
              "    </tr>\n",
              "    <tr>\n",
              "      <th>Profissão</th>\n",
              "      <th></th>\n",
              "      <th></th>\n",
              "      <th></th>\n",
              "    </tr>\n",
              "  </thead>\n",
              "  <tbody>\n",
              "    <tr>\n",
              "      <th>Advogado(a)</th>\n",
              "      <td>7.410638</td>\n",
              "      <td>7.2</td>\n",
              "      <td>7.3</td>\n",
              "    </tr>\n",
              "    <tr>\n",
              "      <th>Cientista</th>\n",
              "      <td>6.000000</td>\n",
              "      <td>[5.8, 6.2]</td>\n",
              "      <td>6.0</td>\n",
              "    </tr>\n",
              "    <tr>\n",
              "      <th>Contador(a)</th>\n",
              "      <td>7.113514</td>\n",
              "      <td>7.2</td>\n",
              "      <td>7.2</td>\n",
              "    </tr>\n",
              "    <tr>\n",
              "      <th>Enfermeiro(a)</th>\n",
              "      <td>7.048611</td>\n",
              "      <td>6.1</td>\n",
              "      <td>6.5</td>\n",
              "    </tr>\n",
              "    <tr>\n",
              "      <th>Eng. de Software</th>\n",
              "      <td>6.750000</td>\n",
              "      <td>7.5</td>\n",
              "      <td>6.8</td>\n",
              "    </tr>\n",
              "    <tr>\n",
              "      <th>Engenheiro(a)</th>\n",
              "      <td>7.987302</td>\n",
              "      <td>8.4</td>\n",
              "      <td>8.3</td>\n",
              "    </tr>\n",
              "    <tr>\n",
              "      <th>Gerente</th>\n",
              "      <td>6.900000</td>\n",
              "      <td>6.9</td>\n",
              "      <td>6.9</td>\n",
              "    </tr>\n",
              "    <tr>\n",
              "      <th>Médico(a)</th>\n",
              "      <td>6.970423</td>\n",
              "      <td>6.0</td>\n",
              "      <td>7.6</td>\n",
              "    </tr>\n",
              "    <tr>\n",
              "      <th>Pessoa Vendendora</th>\n",
              "      <td>6.403125</td>\n",
              "      <td>6.5</td>\n",
              "      <td>6.4</td>\n",
              "    </tr>\n",
              "    <tr>\n",
              "      <th>Professor(a)</th>\n",
              "      <td>6.690000</td>\n",
              "      <td>6.6</td>\n",
              "      <td>6.6</td>\n",
              "    </tr>\n",
              "    <tr>\n",
              "      <th>Representante de Vendas</th>\n",
              "      <td>5.900000</td>\n",
              "      <td>5.9</td>\n",
              "      <td>5.9</td>\n",
              "    </tr>\n",
              "  </tbody>\n",
              "</table>\n",
              "</div>"
            ],
            "text/plain": [
              "                            Média        Moda  Mediana\n",
              "Profissão                                             \n",
              "Advogado(a)              7.410638         7.2      7.3\n",
              "Cientista                6.000000  [5.8, 6.2]      6.0\n",
              "Contador(a)              7.113514         7.2      7.2\n",
              "Enfermeiro(a)            7.048611         6.1      6.5\n",
              "Eng. de Software         6.750000         7.5      6.8\n",
              "Engenheiro(a)            7.987302         8.4      8.3\n",
              "Gerente                  6.900000         6.9      6.9\n",
              "Médico(a)                6.970423         6.0      7.6\n",
              "Pessoa Vendendora        6.403125         6.5      6.4\n",
              "Professor(a)             6.690000         6.6      6.6\n",
              "Representante de Vendas  5.900000         5.9      5.9"
            ]
          },
          "execution_count": 6,
          "metadata": {},
          "output_type": "execute_result"
        }
      ],
      "source": [
        "# Criação do dataframe com as funções agregadas\n",
        "df_media_moda_mediana = df.pivot_table(values='Duração do sono', index='Profissão', aggfunc=[np.mean, pd.Series.mode, np.median])\n",
        "\n",
        "# Alteração dos nomes das colunas do dataframe\n",
        "df_media_moda_mediana.columns = ['Média', 'Moda', 'Mediana']\n",
        "\n",
        "# Exibição do dataframe\n",
        "df_media_moda_mediana"
      ]
    },
    {
      "cell_type": "markdown",
      "metadata": {
        "id": "H8QS7jr6ktUS"
      },
      "source": [
        "## 03\n",
        "Das pessoas que atuam com engenharia de software qual a porcentagem de obesos?"
      ]
    },
    {
      "cell_type": "code",
      "execution_count": 7,
      "metadata": {
        "colab": {
          "base_uri": "https://localhost:8080/"
        },
        "id": "Y9DApEMag8ZH",
        "outputId": "dec18c07-4709-4c1a-f452-d9666f99c1df",
        "trusted": true
      },
      "outputs": [
        {
          "name": "stdout",
          "output_type": "stream",
          "text": [
            "A porcentagem de obesos que atuam com engenharia de software é 25.00%\n"
          ]
        }
      ],
      "source": [
        "# Busca da quantidade de pessoas que atuam com engenharia de software\n",
        "quantidade_engenharia_software = df[df['Profissão'] == 'Eng. de Software']['Identificador'].count()\n",
        "\n",
        "# Busca da quantidade de pessoas que atuam com engenharia de software e são obesas\n",
        "quantidade_engenharia_software_obesos = df[(df['Profissão'] == 'Eng. de Software') & (df['Categoria IMC'] == 'Obesidade')]['Identificador'].count()\n",
        "\n",
        "# Cálculo da porcentagem de pessoas que atuam com engenharia de software e são obesas\n",
        "porcentagem_engenharia_software_obesos = (quantidade_engenharia_software_obesos / quantidade_engenharia_software) * 100\n",
        "\n",
        "# Exibição da porcentagem\n",
        "print(f\"A porcentagem de obesos que atuam com engenharia de software é {porcentagem_engenharia_software_obesos:.2f}%\")"
      ]
    },
    {
      "cell_type": "markdown",
      "metadata": {
        "id": "x8D9xAsIv9u0"
      },
      "source": [
        "## 04\n",
        "De acordo com os dados, advogar ou ser representante de vendas faz você dormir menos? (Use o método `isin`, considere a média)"
      ]
    },
    {
      "cell_type": "code",
      "execution_count": 9,
      "metadata": {
        "colab": {
          "base_uri": "https://localhost:8080/"
        },
        "id": "C0VJbmnxqnST",
        "outputId": "10ad9eed-6f1c-44a7-a35a-af0f80febf72",
        "trusted": true
      },
      "outputs": [
        {
          "name": "stdout",
          "output_type": "stream",
          "text": [
            "Não, ser advogado(a) ou Representante de Vendas não está associado a uma menor duração do sono.\n"
          ]
        }
      ],
      "source": [
        "# Filtragem das profissões: Advogado(a) e Representante de Vendas\n",
        "df_advogados_representantes = df[df['Profissão'].isin(['Advogado(a)', 'Representante de Vendas'])]\n",
        "\n",
        "# Cálculo da média da duração do sono para Advogado(a) e Representante de Vendas\n",
        "media_advogados_representantes = df_advogados_representantes['Duração do sono'].mean()\n",
        "\n",
        "# Cálculo da média da duração do sono geral\n",
        "media_geral = df['Duração do sono'].mean()\n",
        "\n",
        "# Comparação das médias\n",
        "if media_advogados_representantes < media_geral:\n",
        "  print(\"Sim, ser advogado(a) ou Representante de Vendas está associado a uma menor duração do sono.\")\n",
        "else:\n",
        "  print(\"Não, ser advogado(a) ou Representante de Vendas não está associado a uma menor duração do sono.\")"
      ]
    },
    {
      "cell_type": "markdown",
      "metadata": {
        "id": "BLqWSkjZM1TF"
      },
      "source": [
        "## 05\n",
        "Entre quem fez enfermagem e quem fez medicina, quem tem menos horas de sono? (Use o método ‘isin’, considere a média)"
      ]
    },
    {
      "cell_type": "code",
      "execution_count": 10,
      "metadata": {
        "colab": {
          "base_uri": "https://localhost:8080/"
        },
        "id": "asz7yW2DNH5k",
        "outputId": "d2a65c8b-a5a8-4cf6-98dc-71e517a7069e",
        "trusted": true
      },
      "outputs": [
        {
          "name": "stdout",
          "output_type": "stream",
          "text": [
            "Médico(a)s têm menos horas de sono.\n"
          ]
        }
      ],
      "source": [
        "# Cálculo da média da duração do sono para Enfermeiro(a)s\n",
        "media_enfermeiros = df[df['Profissão'].isin(['Enfermeiro(a)'])]['Duração do sono'].mean()\n",
        "\n",
        "# Cálculo da média da duração do sono para Médico(a)s\n",
        "media_medicos = df[df['Profissão'].isin(['Médico(a)'])]['Duração do sono'].mean()\n",
        "\n",
        "# Comparação das médias\n",
        "if media_enfermeiros < media_medicos:\n",
        "  print(\"Enfermeiro(a)s têm menos horas de sono.\")\n",
        "elif media_enfermeiros > media_medicos:\n",
        "  print(\"Médico(a)s têm menos horas de sono.\")\n",
        "else:\n",
        "  print(\"Enfermeiro(a)s e médico(a)s têm a mesma média de horas de sono.\")"
      ]
    },
    {
      "cell_type": "markdown",
      "metadata": {
        "id": "UAuWExO0ODHD"
      },
      "source": [
        "## 06\n",
        "Faça um subconjunto com as colunas Identificador, Gênero, Idade, Pressão sanguínea e Frequência cardíaca."
      ]
    },
    {
      "cell_type": "code",
      "execution_count": 11,
      "metadata": {
        "colab": {
          "base_uri": "https://localhost:8080/",
          "height": 206
        },
        "id": "w0gRDz-DOEA6",
        "outputId": "24ce5d0d-03dd-4563-e59f-970897d9287c",
        "trusted": true
      },
      "outputs": [
        {
          "data": {
            "text/html": [
              "<div>\n",
              "<style scoped>\n",
              "    .dataframe tbody tr th:only-of-type {\n",
              "        vertical-align: middle;\n",
              "    }\n",
              "\n",
              "    .dataframe tbody tr th {\n",
              "        vertical-align: top;\n",
              "    }\n",
              "\n",
              "    .dataframe thead th {\n",
              "        text-align: right;\n",
              "    }\n",
              "</style>\n",
              "<table border=\"1\" class=\"dataframe\">\n",
              "  <thead>\n",
              "    <tr style=\"text-align: right;\">\n",
              "      <th></th>\n",
              "      <th>Identificador</th>\n",
              "      <th>Gênero</th>\n",
              "      <th>Idade</th>\n",
              "      <th>Pressão sanguínea</th>\n",
              "      <th>Frequência cardíaca</th>\n",
              "    </tr>\n",
              "  </thead>\n",
              "  <tbody>\n",
              "    <tr>\n",
              "      <th>0</th>\n",
              "      <td>1</td>\n",
              "      <td>Homem</td>\n",
              "      <td>27</td>\n",
              "      <td>126/83</td>\n",
              "      <td>77</td>\n",
              "    </tr>\n",
              "    <tr>\n",
              "      <th>1</th>\n",
              "      <td>2</td>\n",
              "      <td>Homem</td>\n",
              "      <td>28</td>\n",
              "      <td>125/80</td>\n",
              "      <td>75</td>\n",
              "    </tr>\n",
              "    <tr>\n",
              "      <th>2</th>\n",
              "      <td>3</td>\n",
              "      <td>Homem</td>\n",
              "      <td>28</td>\n",
              "      <td>125/80</td>\n",
              "      <td>75</td>\n",
              "    </tr>\n",
              "    <tr>\n",
              "      <th>3</th>\n",
              "      <td>4</td>\n",
              "      <td>Homem</td>\n",
              "      <td>28</td>\n",
              "      <td>140/90</td>\n",
              "      <td>85</td>\n",
              "    </tr>\n",
              "    <tr>\n",
              "      <th>4</th>\n",
              "      <td>5</td>\n",
              "      <td>Homem</td>\n",
              "      <td>28</td>\n",
              "      <td>140/90</td>\n",
              "      <td>85</td>\n",
              "    </tr>\n",
              "  </tbody>\n",
              "</table>\n",
              "</div>"
            ],
            "text/plain": [
              "   Identificador Gênero  Idade Pressão sanguínea  Frequência cardíaca\n",
              "0              1  Homem     27            126/83                   77\n",
              "1              2  Homem     28            125/80                   75\n",
              "2              3  Homem     28            125/80                   75\n",
              "3              4  Homem     28            140/90                   85\n",
              "4              5  Homem     28            140/90                   85"
            ]
          },
          "execution_count": 11,
          "metadata": {},
          "output_type": "execute_result"
        }
      ],
      "source": [
        "# Criação do subconjunto\n",
        "df_subconjunto = df[['Identificador', 'Gênero', 'Idade', 'Pressão sanguínea', 'Frequência cardíaca']]\n",
        "\n",
        "# Exibição do dataframe\n",
        "df_subconjunto.head()"
      ]
    },
    {
      "cell_type": "markdown",
      "metadata": {
        "id": "kDLKiD6qPaG5"
      },
      "source": [
        "## 07\n",
        "Descubra qual a profissão menos frequente no conjunto. (Use value_counts)"
      ]
    },
    {
      "cell_type": "code",
      "execution_count": 12,
      "metadata": {
        "colab": {
          "base_uri": "https://localhost:8080/"
        },
        "id": "HRqYRzIZPnvH",
        "outputId": "12fb509d-21ec-48e8-f83d-ad73bb322c42",
        "trusted": true
      },
      "outputs": [
        {
          "name": "stdout",
          "output_type": "stream",
          "text": [
            "A profissão menos frequente no conjunto é: Gerente\n"
          ]
        }
      ],
      "source": [
        "# Filtragem da profissão menos frequente\n",
        "profissao_menos_frequente = df['Profissão'].value_counts().idxmin()\n",
        "\n",
        "print(\"A profissão menos frequente no conjunto é:\", profissao_menos_frequente)"
      ]
    },
    {
      "cell_type": "markdown",
      "metadata": {
        "id": "_GgeMy3RQwtV"
      },
      "source": [
        "## 08\n",
        "Quem tem maior pressão sanguínea média, homens ou mulheres? (Considere a média)"
      ]
    },
    {
      "cell_type": "code",
      "execution_count": 14,
      "metadata": {
        "colab": {
          "base_uri": "https://localhost:8080/"
        },
        "id": "4Gf1OPxikgr-",
        "outputId": "126c66b4-5bf5-43a1-dd60-2bdf1f5aef31",
        "trusted": true
      },
      "outputs": [
        {
          "name": "stdout",
          "output_type": "stream",
          "text": [
            "O gênero com a maior pressão sanguínea média é: Mulher\n"
          ]
        }
      ],
      "source": [
        "# Armazenamento dos valores da coluna Pressão sanguínea separadamente\n",
        "df[['Pressão sistólica', 'Pressão diastólica']] = df['Pressão sanguínea'].str.split('/', expand=True).astype(int)\n",
        "\n",
        "# Fórmula para encontrar a Pressão arterial média = (Pressão Sistólica + 2 x Pressão Diastólica) / 3\n",
        "PAM = (df['Pressão sistólica'] + 2 * df['Pressão diastólica']) / 3\n",
        "\n",
        "# Armazenamento da Pressão arterial média\n",
        "df['Pressão arterial média'] = PAM\n",
        "\n",
        "# Filtragem da maior pressão arterial média\n",
        "maior_media_genero = df.groupby('Gênero')['Pressão arterial média'].mean().idxmax()\n",
        "print(\"O gênero com a maior pressão sanguínea média é:\", maior_media_genero)"
      ]
    },
    {
      "cell_type": "code",
      "execution_count": 16,
      "metadata": {
        "colab": {
          "base_uri": "https://localhost:8080/",
          "height": 175
        },
        "id": "e_zBtk36rDDc",
        "outputId": "3b3ec7d7-9f0b-496c-9229-a9075200a10e",
        "trusted": true
      },
      "outputs": [
        {
          "data": {
            "text/html": [
              "<div>\n",
              "<style scoped>\n",
              "    .dataframe tbody tr th:only-of-type {\n",
              "        vertical-align: middle;\n",
              "    }\n",
              "\n",
              "    .dataframe tbody tr th {\n",
              "        vertical-align: top;\n",
              "    }\n",
              "\n",
              "    .dataframe thead tr th {\n",
              "        text-align: left;\n",
              "    }\n",
              "\n",
              "    .dataframe thead tr:last-of-type th {\n",
              "        text-align: right;\n",
              "    }\n",
              "</style>\n",
              "<table border=\"1\" class=\"dataframe\">\n",
              "  <thead>\n",
              "    <tr>\n",
              "      <th></th>\n",
              "      <th>mean</th>\n",
              "    </tr>\n",
              "    <tr>\n",
              "      <th></th>\n",
              "      <th>Pressão arterial média</th>\n",
              "    </tr>\n",
              "    <tr>\n",
              "      <th>Gênero</th>\n",
              "      <th></th>\n",
              "    </tr>\n",
              "  </thead>\n",
              "  <tbody>\n",
              "    <tr>\n",
              "      <th>Homem</th>\n",
              "      <td>97.657848</td>\n",
              "    </tr>\n",
              "    <tr>\n",
              "      <th>Mulher</th>\n",
              "      <td>100.896739</td>\n",
              "    </tr>\n",
              "  </tbody>\n",
              "</table>\n",
              "</div>"
            ],
            "text/plain": [
              "                         mean\n",
              "       Pressão arterial média\n",
              "Gênero                       \n",
              "Homem               97.657848\n",
              "Mulher             100.896739"
            ]
          },
          "execution_count": 16,
          "metadata": {},
          "output_type": "execute_result"
        }
      ],
      "source": [
        "# Exibição do dataframe\n",
        "df.pivot_table(values='Pressão arterial média', index='Gênero', aggfunc=[np.mean])"
      ]
    },
    {
      "cell_type": "markdown",
      "metadata": {
        "id": "-Py4ZPJJYb2f"
      },
      "source": [
        "## 09\n",
        "É predominante entre os participantes dormir 8 horas por dia (considere usar Moda como medida)?"
      ]
    },
    {
      "cell_type": "code",
      "execution_count": 17,
      "metadata": {
        "colab": {
          "base_uri": "https://localhost:8080/"
        },
        "id": "VScgNoqTRckM",
        "outputId": "64e18cf8-0c70-4765-e55f-e9353512c1e9",
        "trusted": true
      },
      "outputs": [
        {
          "name": "stdout",
          "output_type": "stream",
          "text": [
            "Não, dormir 8 horas por dia não é predominante entre os participantes.\n"
          ]
        }
      ],
      "source": [
        "# Cálculo da moda da duração do sono\n",
        "moda_duracao_sono = df['Duração do sono'].mode()[0]\n",
        "\n",
        "# Verifica se a moda é igual a 8 horas\n",
        "if moda_duracao_sono == 8:\n",
        "  print(\"Sim, dormir 8 horas por dia é predominante entre os participantes.\")\n",
        "else:\n",
        "  print(\"Não, dormir 8 horas por dia não é predominante entre os participantes.\")"
      ]
    },
    {
      "cell_type": "markdown",
      "metadata": {
        "id": "orYosyjWY9B3"
      },
      "source": [
        "## 10\n",
        "Pessoas com frequências cardíacas acima de 70 dão mais passos que pessoas com frequência cardíaca menor ou igual a 70? (Use a média)"
      ]
    },
    {
      "cell_type": "code",
      "execution_count": 20,
      "metadata": {
        "colab": {
          "base_uri": "https://localhost:8080/"
        },
        "id": "DHUnRXQZaIEx",
        "outputId": "dd2cee57-68e1-497f-ccfe-2b842d8f58b6",
        "trusted": true
      },
      "outputs": [
        {
          "name": "stdout",
          "output_type": "stream",
          "text": [
            "Não, pessoas com frequência cardíaca igual ou menor a 70 dão mais passos.\n"
          ]
        }
      ],
      "source": [
        "# Cálculo da média de passos diários para frequência cardíaca acima de 70\n",
        "media_passos_acima_70 = df[df['Frequência cardíaca'] > 70]['Passos diários'].mean()\n",
        "\n",
        "# Cálculo da média de passos diários para frequência cardíaca menor ou igual 70\n",
        "media_passos_70_ou_menos = df[df['Frequência cardíaca'] <= 70]['Passos diários'].mean()\n",
        "\n",
        "# Comparação das médias\n",
        "if media_passos_acima_70 > media_passos_70_ou_menos:\n",
        "    print(\"Sim, pessoas com frequência cardíaca acima de 70 dão mais passos.\")\n",
        "elif media_passos_acima_70 < media_passos_70_ou_menos:\n",
        "    print(\"Não, pessoas com frequência cardíaca igual ou menor a 70 dão mais passos.\")\n",
        "else:\n",
        "    print(\"Não, pessoas com frequência cardíaca acima de 70 e Pessoas com frequência cardíaca igual ou menor a 70 dão o mesmo número de passos.\")"
      ]
    }
  ],
  "metadata": {
    "colab": {
      "provenance": [],
      "toc_visible": true
    },
    "kernelspec": {
      "display_name": "Python (Pyodide)",
      "language": "python",
      "name": "python"
    },
    "language_info": {
      "codemirror_mode": {
        "name": "python",
        "version": 3
      },
      "file_extension": ".py",
      "mimetype": "text/x-python",
      "name": "python",
      "nbconvert_exporter": "python",
      "pygments_lexer": "ipython3",
      "version": "3.8"
    }
  },
  "nbformat": 4,
  "nbformat_minor": 4
}
